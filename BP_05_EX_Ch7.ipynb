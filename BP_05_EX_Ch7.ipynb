{
  "nbformat": 4,
  "nbformat_minor": 0,
  "metadata": {
    "colab": {
      "provenance": [],
      "authorship_tag": "ABX9TyNuRwvLAHuQQXUJ3b79K0WG",
      "include_colab_link": true
    },
    "kernelspec": {
      "name": "python3",
      "display_name": "Python 3"
    },
    "language_info": {
      "name": "python"
    }
  },
  "cells": [
    {
      "cell_type": "markdown",
      "metadata": {
        "id": "view-in-github",
        "colab_type": "text"
      },
      "source": [
        "<a href=\"https://colab.research.google.com/github/wlstjwlstj/BP_05_Ch7/blob/main/BP_05_EX_Ch7.ipynb\" target=\"_parent\"><img src=\"https://colab.research.google.com/assets/colab-badge.svg\" alt=\"Open In Colab\"/></a>"
      ]
    },
    {
      "cell_type": "markdown",
      "source": [
        "1. 눈사람을 그리는 함수를 작성하고 이 함수를 여러 번 호출하여서 랜덤한 위치에 눈사람을 그리는 프로그램을 작성하라. 아래 실행 결과와 최대한 비슷하게 작성해 보자."
      ],
      "metadata": {
        "id": "B8_wd96_-Wp0"
      }
    },
    {
      "cell_type": "code",
      "source": [
        "def draw_snowman(x, y):  #눈사람 그리는 함수 정의\n",
        "    t.up()               #펜 들음\n",
        "    t.goto(x,y+120)\n",
        "    t.down()             #펜 내림\n",
        " \n",
        "    t.begin_fill()        #채우기 시작\n",
        "    t.circle(35)          #원 그림\n",
        "    t.end_fill()          #채우기 종료\n",
        "\n",
        "    t.up()\n",
        "    t.goto(x,y+80)\n",
        "    t.down()\n",
        " \n",
        "    t.lt(20)\n",
        "    t.fd(100); t.fd(-100)\n",
        "    t.lt(130)\n",
        "    t.fd(100); t.fd(-100)\n",
        "    t.seth(0)\n",
        " \n",
        "    t.begin_fill()\n",
        "    t.circle(25)\n",
        "    t.end_fill()\n",
        "    \n",
        "    t.up()\n",
        "    t.goto(x,y)\n",
        "    t.down()\n",
        " \n",
        "    t.begin_fill()\n",
        "    t.circle(50)\n",
        "    t.end_fill()\n",
        "\n",
        "import turtle\n",
        "t = turtle.Turtle(\"turtle\")\n",
        "s = turtle.Screen()\n",
        " \n",
        "t.color('black', 'white')  #선색상을 검정으로, 채우기 색상을 흰색으로 설정\n",
        "s.bgcolor('skyblue')       #배경 하늘색으로 변경\n",
        " \n",
        "for i in range(3):         #3번 반복\n",
        "    draw_snowman(150*i-150,0)"
      ],
      "metadata": {
        "id": "sHg9rIkA-eiT"
      },
      "execution_count": null,
      "outputs": []
    },
    {
      "cell_type": "markdown",
      "source": [
        "2. 6각형을 그리는 draw_hexa() 함수를 작성하고 이 함수를 호출하여서 다음과 같은 벌집 모양을 화면에 그려보자."
      ],
      "metadata": {
        "id": "Upimid1hBqpL"
      }
    },
    {
      "cell_type": "code",
      "source": [
        "import turtle\n",
        "t=turtle.Turtle()\n",
        "t.shape(\"turtle\")\n",
        "def hexagon():         #6각형 그리는 함수 정의\n",
        "    for i in range(6): #6번 반복\n",
        "        t.fd(100)      #앞으로 100이동\n",
        "        t.rt(60)       #오른쪽으로 60도 회전\n",
        "for i in range(6):     #6번 반복\n",
        "    t.fd(100)          #앞으로 100이동\n",
        "    t.lt(60)           #왼쪽으로 60도 회전\n",
        "    hexagon()          #hexagon() 함수 호출"
      ],
      "metadata": {
        "id": "Lxto3XzsBxvi"
      },
      "execution_count": null,
      "outputs": []
    },
    {
      "cell_type": "markdown",
      "source": [
        "3. 함수 f(x)=x^2+1 을 계산하는 함수를 작성하고 이 함수를 이용하여 화면에 f(x)를 그려보자."
      ],
      "metadata": {
        "id": "KcCvu0gkDbix"
      }
    },
    {
      "cell_type": "code",
      "source": [
        "import turtle\n",
        "t=turtle.Turtle()\n",
        "t.shape(\"turtle\")\n",
        "def fun():                            #f(x)=x**2+1을 계산하여 그리는 함수 정의\n",
        "    for x in range(150):\n",
        "        turtle.goto(x,(x**2+1)*0.01)  #계산되어진 좌표로 이동\n",
        "t.fd(300)\n",
        "t.fd(-300)\n",
        "t.lt(90)\n",
        "t.fd(300)\n",
        "t.fd(-300)\n",
        "t.rt(90)\n",
        "fun()                                 #Fun()함수 호출"
      ],
      "metadata": {
        "id": "UdMD33MYDq-5"
      },
      "execution_count": null,
      "outputs": []
    },
    {
      "cell_type": "markdown",
      "source": [
        "4. 터틀 그래픽에서 거북이를 움직이지 않고 선을 긋는 함수 draw_line()을 정의하고 이것을 이용하여 다음과 같은 거미줄과 같은 모양을 그려보자. 거북이는 항상 중앙에 위치한다."
      ],
      "metadata": {
        "id": "lavNub_HEb6p"
      }
    },
    {
      "cell_type": "code",
      "source": [
        "import turtle\n",
        "t=turtle.Turtle()\n",
        "t.shape(\"turtle\")\n",
        "def draw_line():          #거북이를 움직이지 않고 선을 긋는 함수 정의\n",
        "    turtle.fd(100)        #앞으로 100이동\n",
        "    turtle.backward(100)  #뒤로 100이동\n",
        "    turtle.left(30)       #왼쪽으로 30도 회전\n",
        "for i in range(12):       #12번 반복\n",
        "    draw_line()           #draw_line() 함수 호출"
      ],
      "metadata": {
        "id": "KQrOwQdCEgoZ"
      },
      "execution_count": null,
      "outputs": []
    },
    {
      "cell_type": "markdown",
      "source": [
        "5. 다음과 같이 이름을 받아서 생일 축하 노래를 출력하는 함수 happyBirtday()를 작성하고 테스트하시오."
      ],
      "metadata": {
        "id": "rPYgNWydFM5Q"
      }
    },
    {
      "cell_type": "code",
      "source": [
        "def happyBirthday(name):\n",
        "  print(\"Happy Birthday to you!\")\n",
        "  print(\"Happy Birthday to you!\")\n",
        "  print(\"Happy Birthday\",name)\n",
        "  print(\"Happy Birthday to you!\")\n",
        "\n",
        "happyBirthday(input())"
      ],
      "metadata": {
        "colab": {
          "base_uri": "https://localhost:8080/"
        },
        "id": "DDcFRJOOFP2Z",
        "outputId": "0447e4cd-1452-428d-a68e-c71988cf52dd"
      },
      "execution_count": null,
      "outputs": [
        {
          "output_type": "stream",
          "name": "stdout",
          "text": [
            "진서\n",
            "Happy Birthday to you!\n",
            "Happy Birthday to you!\n",
            "Happy Birthday 진서\n",
            "Happy Birthday to you!\n"
          ]
        }
      ]
    },
    {
      "cell_type": "markdown",
      "source": [
        "6. 사용자로부터 2개의 정수를 받아서 수학 문제를 만들어서 화면에 출력하는 함수를 작성하고 테스트하시오."
      ],
      "metadata": {
        "id": "x7z8akeZF2Gr"
      }
    },
    {
      "cell_type": "code",
      "source": [
        "def sum():                                    #sum()함수 정의\n",
        "  x=int(input(\"첫 번째 정수: \"))              #input() 사용하여 정수 입력받음\n",
        "  y=int(input(\"두 번째 정수: \"))\n",
        "  print(\"정수\"+str(x)+\"+\"+str(y)+\"의 합은?\")  #입력받은 수 이용하여 문장 출력\n",
        "sum()"
      ],
      "metadata": {
        "colab": {
          "base_uri": "https://localhost:8080/"
        },
        "id": "XA2uXj2EGHpQ",
        "outputId": "f9fc9357-6244-4e3b-f476-a642c66f5c86"
      },
      "execution_count": null,
      "outputs": [
        {
          "output_type": "stream",
          "name": "stdout",
          "text": [
            "첫 번째 정수: 10\n",
            "두 번째 정수: 20\n",
            "정수10+20의 합은?\n"
          ]
        }
      ]
    },
    {
      "cell_type": "markdown",
      "source": [
        "7. 파이를 나타내는 PI=3.14를 전역 변수로 하여 원의 면적을 계산하는 함수 circleArea(radius)과 원의 둘레를 계산하는 함수 circleCircumference(radius)를 작성하고 테스트하라."
      ],
      "metadata": {
        "id": "sIGACAKPIv-a"
      }
    },
    {
      "cell_type": "code",
      "source": [
        "P1=3.14\n",
        "def circleArea(radius):                                 #원의 면적 계산하는 함수 정의\n",
        "  area=P1*radius**2                                     #면적 계산\n",
        "  return area\n",
        "\n",
        "def circleCircumference(radius):                        #원의 둘레 계산하는 함수 정의\n",
        "  circumference=P1*radius*2                             #둘레 계산\n",
        "  return circumference\n",
        "\n",
        "print(\"반지름이 5인 원의 면적\", circleArea(5))          #circleArea() 함수 호출\n",
        "print(\"반지름이 5인 원의 둘레:\", circleCircumference(5))#circleCircumference() 함수 호출"
      ],
      "metadata": {
        "colab": {
          "base_uri": "https://localhost:8080/"
        },
        "id": "boqJrV21I0sp",
        "outputId": "3585a5bc-18bf-4a1f-e52c-39b0fe99e17d"
      },
      "execution_count": null,
      "outputs": [
        {
          "output_type": "stream",
          "name": "stdout",
          "text": [
            "반지름이 5인 원의 면적 78.5\n",
            "반지름이 5인 원의 둘레: 31.400000000000002\n"
          ]
        }
      ]
    },
    {
      "cell_type": "markdown",
      "source": [
        "8. 덧셈, 뺄셈, 곱셈, 나눗셈을 수행하는 함수를 각각 작성하고 테스트하라."
      ],
      "metadata": {
        "id": "42WbJqNgJtmp"
      }
    },
    {
      "cell_type": "code",
      "source": [
        "def sum(x,y):  #덧셈 함수 정의\n",
        "  return x+y\n",
        "def min(x,y):  #뺄셈 함수 정의\n",
        "  return x-y\n",
        "def mul(x,y):  #곱셈 함수 정의\n",
        "  return x*y \n",
        "def div(x,y):  #나눗셈 함수 정의\n",
        "  return x/y\n",
        "\n",
        "a=int(input(\"첫 번째 수: \"))  #사용자로부터 수 입력받음\n",
        "b=int(input(\"두 번째 수: \"))\n",
        "print(\"(\"+str(a)+\" + \"+str(b)+\") = \", sum(a,b))  #입력받은 수와 함수 이용하여 문장 출력\n",
        "print(\"(\"+str(a)+\" + \"+str(b)+\") = \", min(a,b))\n",
        "print(\"(\"+str(a)+\" + \"+str(b)+\") = \", mul(a,b))\n",
        "print(\"(\"+str(a)+\" + \"+str(b)+\") = \", div1(a,b))"
      ],
      "metadata": {
        "colab": {
          "base_uri": "https://localhost:8080/"
        },
        "id": "ar_b1T06J0lA",
        "outputId": "b0364238-2d48-495f-fe9a-2a80e14e4d4f"
      },
      "execution_count": null,
      "outputs": [
        {
          "output_type": "stream",
          "name": "stdout",
          "text": [
            "첫 번째 수: 20\n",
            "두 번째 수: 10\n",
            "(20 + 10) =  30\n",
            "(20 + 10) =  10\n",
            "(20 + 10) =  200\n",
            "(20 + 10) =  2.0\n"
          ]
        }
      ]
    }
  ]
}